{
 "cells": [
  {
   "cell_type": "markdown",
   "id": "deluxe-watershed",
   "metadata": {
    "id": "specified-affect",
    "papermill": {
     "duration": 0.022899,
     "end_time": "2021-04-06T13:50:32.864449",
     "exception": false,
     "start_time": "2021-04-06T13:50:32.841550",
     "status": "completed"
    },
    "tags": []
   },
   "source": [
    "<h3>Imports</h3>"
   ]
  },
  {
   "cell_type": "code",
   "execution_count": 141,
   "id": "musical-basis",
   "metadata": {
    "execution": {
     "iopub.execute_input": "2021-04-06T13:50:32.964263Z",
     "iopub.status.busy": "2021-04-06T13:50:32.963682Z",
     "iopub.status.idle": "2021-04-06T13:50:38.721526Z",
     "shell.execute_reply": "2021-04-06T13:50:38.720674Z"
    },
    "id": "figured-mercury",
    "papermill": {
     "duration": 5.784857,
     "end_time": "2021-04-06T13:50:38.721679",
     "exception": false,
     "start_time": "2021-04-06T13:50:32.936822",
     "status": "completed"
    },
    "tags": []
   },
   "outputs": [],
   "source": [
    "import pandas as pd\n",
    "import numpy as np\n",
    "import tensorflow as tf\n",
    "import matplotlib.pyplot as plt\n",
    "import seaborn as sns\n",
    "from sklearn.preprocessing import StandardScaler, MinMaxScaler, LabelEncoder"
   ]
  },
  {
   "cell_type": "markdown",
   "id": "7ad59032",
   "metadata": {},
   "source": [
    "Loading the dataset"
   ]
  },
  {
   "cell_type": "code",
   "execution_count": 119,
   "id": "encouraging-lottery",
   "metadata": {
    "execution": {
     "iopub.execute_input": "2021-04-06T13:50:38.826777Z",
     "iopub.status.busy": "2021-04-06T13:50:38.826136Z",
     "iopub.status.idle": "2021-04-06T13:50:38.878680Z",
     "shell.execute_reply": "2021-04-06T13:50:38.879117Z"
    },
    "id": "internal-trinidad",
    "outputId": "f5116ae1-9fd4-463a-95a3-0fd6243bce53",
    "papermill": {
     "duration": 0.082051,
     "end_time": "2021-04-06T13:50:38.879276",
     "exception": false,
     "start_time": "2021-04-06T13:50:38.797225",
     "status": "completed"
    },
    "tags": []
   },
   "outputs": [
    {
     "data": {
      "text/html": [
       "<div>\n",
       "<style scoped>\n",
       "    .dataframe tbody tr th:only-of-type {\n",
       "        vertical-align: middle;\n",
       "    }\n",
       "\n",
       "    .dataframe tbody tr th {\n",
       "        vertical-align: top;\n",
       "    }\n",
       "\n",
       "    .dataframe thead th {\n",
       "        text-align: right;\n",
       "    }\n",
       "</style>\n",
       "<table border=\"1\" class=\"dataframe\">\n",
       "  <thead>\n",
       "    <tr style=\"text-align: right;\">\n",
       "      <th></th>\n",
       "      <th>fixed acidity</th>\n",
       "      <th>volatile acidity</th>\n",
       "      <th>citric acid</th>\n",
       "      <th>residual sugar</th>\n",
       "      <th>chlorides</th>\n",
       "      <th>free sulfur dioxide</th>\n",
       "      <th>total sulfur dioxide</th>\n",
       "      <th>density</th>\n",
       "      <th>pH</th>\n",
       "      <th>sulphates</th>\n",
       "      <th>alcohol</th>\n",
       "      <th>quality</th>\n",
       "    </tr>\n",
       "  </thead>\n",
       "  <tbody>\n",
       "    <tr>\n",
       "      <th>0</th>\n",
       "      <td>7.4</td>\n",
       "      <td>0.70</td>\n",
       "      <td>0.00</td>\n",
       "      <td>1.9</td>\n",
       "      <td>0.076</td>\n",
       "      <td>11.0</td>\n",
       "      <td>34.0</td>\n",
       "      <td>0.9978</td>\n",
       "      <td>3.51</td>\n",
       "      <td>0.56</td>\n",
       "      <td>9.4</td>\n",
       "      <td>5</td>\n",
       "    </tr>\n",
       "    <tr>\n",
       "      <th>1</th>\n",
       "      <td>7.8</td>\n",
       "      <td>0.88</td>\n",
       "      <td>0.00</td>\n",
       "      <td>2.6</td>\n",
       "      <td>0.098</td>\n",
       "      <td>25.0</td>\n",
       "      <td>67.0</td>\n",
       "      <td>0.9968</td>\n",
       "      <td>3.20</td>\n",
       "      <td>0.68</td>\n",
       "      <td>9.8</td>\n",
       "      <td>5</td>\n",
       "    </tr>\n",
       "    <tr>\n",
       "      <th>2</th>\n",
       "      <td>7.8</td>\n",
       "      <td>0.76</td>\n",
       "      <td>0.04</td>\n",
       "      <td>2.3</td>\n",
       "      <td>0.092</td>\n",
       "      <td>15.0</td>\n",
       "      <td>54.0</td>\n",
       "      <td>0.9970</td>\n",
       "      <td>3.26</td>\n",
       "      <td>0.65</td>\n",
       "      <td>9.8</td>\n",
       "      <td>5</td>\n",
       "    </tr>\n",
       "    <tr>\n",
       "      <th>3</th>\n",
       "      <td>11.2</td>\n",
       "      <td>0.28</td>\n",
       "      <td>0.56</td>\n",
       "      <td>1.9</td>\n",
       "      <td>0.075</td>\n",
       "      <td>17.0</td>\n",
       "      <td>60.0</td>\n",
       "      <td>0.9980</td>\n",
       "      <td>3.16</td>\n",
       "      <td>0.58</td>\n",
       "      <td>9.8</td>\n",
       "      <td>6</td>\n",
       "    </tr>\n",
       "    <tr>\n",
       "      <th>4</th>\n",
       "      <td>7.4</td>\n",
       "      <td>0.70</td>\n",
       "      <td>0.00</td>\n",
       "      <td>1.9</td>\n",
       "      <td>0.076</td>\n",
       "      <td>11.0</td>\n",
       "      <td>34.0</td>\n",
       "      <td>0.9978</td>\n",
       "      <td>3.51</td>\n",
       "      <td>0.56</td>\n",
       "      <td>9.4</td>\n",
       "      <td>5</td>\n",
       "    </tr>\n",
       "  </tbody>\n",
       "</table>\n",
       "</div>"
      ],
      "text/plain": [
       "   fixed acidity  volatile acidity  citric acid  residual sugar  chlorides  \\\n",
       "0            7.4              0.70         0.00             1.9      0.076   \n",
       "1            7.8              0.88         0.00             2.6      0.098   \n",
       "2            7.8              0.76         0.04             2.3      0.092   \n",
       "3           11.2              0.28         0.56             1.9      0.075   \n",
       "4            7.4              0.70         0.00             1.9      0.076   \n",
       "\n",
       "   free sulfur dioxide  total sulfur dioxide  density    pH  sulphates  \\\n",
       "0                 11.0                  34.0   0.9978  3.51       0.56   \n",
       "1                 25.0                  67.0   0.9968  3.20       0.68   \n",
       "2                 15.0                  54.0   0.9970  3.26       0.65   \n",
       "3                 17.0                  60.0   0.9980  3.16       0.58   \n",
       "4                 11.0                  34.0   0.9978  3.51       0.56   \n",
       "\n",
       "   alcohol  quality  \n",
       "0      9.4        5  \n",
       "1      9.8        5  \n",
       "2      9.8        5  \n",
       "3      9.8        6  \n",
       "4      9.4        5  "
      ]
     },
     "execution_count": 119,
     "metadata": {},
     "output_type": "execute_result"
    }
   ],
   "source": [
    "df = pd.read_csv('winequality-red.csv')\n",
    "df.head()"
   ]
  },
  {
   "cell_type": "code",
   "execution_count": 120,
   "id": "annual-insert",
   "metadata": {
    "execution": {
     "iopub.execute_input": "2021-04-06T13:50:38.940357Z",
     "iopub.status.busy": "2021-04-06T13:50:38.935965Z",
     "iopub.status.idle": "2021-04-06T13:50:38.986377Z",
     "shell.execute_reply": "2021-04-06T13:50:38.985750Z"
    },
    "id": "floppy-campaign",
    "outputId": "874df987-6ca4-408f-934e-d2a76f7e6c4b",
    "papermill": {
     "duration": 0.080847,
     "end_time": "2021-04-06T13:50:38.986513",
     "exception": false,
     "start_time": "2021-04-06T13:50:38.905666",
     "status": "completed"
    },
    "tags": []
   },
   "outputs": [
    {
     "data": {
      "text/html": [
       "<div>\n",
       "<style scoped>\n",
       "    .dataframe tbody tr th:only-of-type {\n",
       "        vertical-align: middle;\n",
       "    }\n",
       "\n",
       "    .dataframe tbody tr th {\n",
       "        vertical-align: top;\n",
       "    }\n",
       "\n",
       "    .dataframe thead th {\n",
       "        text-align: right;\n",
       "    }\n",
       "</style>\n",
       "<table border=\"1\" class=\"dataframe\">\n",
       "  <thead>\n",
       "    <tr style=\"text-align: right;\">\n",
       "      <th></th>\n",
       "      <th>fixed acidity</th>\n",
       "      <th>volatile acidity</th>\n",
       "      <th>citric acid</th>\n",
       "      <th>residual sugar</th>\n",
       "      <th>chlorides</th>\n",
       "      <th>free sulfur dioxide</th>\n",
       "      <th>total sulfur dioxide</th>\n",
       "      <th>density</th>\n",
       "      <th>pH</th>\n",
       "      <th>sulphates</th>\n",
       "      <th>alcohol</th>\n",
       "      <th>quality</th>\n",
       "    </tr>\n",
       "  </thead>\n",
       "  <tbody>\n",
       "    <tr>\n",
       "      <th>count</th>\n",
       "      <td>1599.000000</td>\n",
       "      <td>1599.000000</td>\n",
       "      <td>1599.000000</td>\n",
       "      <td>1599.000000</td>\n",
       "      <td>1599.000000</td>\n",
       "      <td>1599.000000</td>\n",
       "      <td>1599.000000</td>\n",
       "      <td>1599.000000</td>\n",
       "      <td>1599.000000</td>\n",
       "      <td>1599.000000</td>\n",
       "      <td>1599.000000</td>\n",
       "      <td>1599.000000</td>\n",
       "    </tr>\n",
       "    <tr>\n",
       "      <th>mean</th>\n",
       "      <td>8.319637</td>\n",
       "      <td>0.527821</td>\n",
       "      <td>0.270976</td>\n",
       "      <td>2.538806</td>\n",
       "      <td>0.087467</td>\n",
       "      <td>15.874922</td>\n",
       "      <td>46.467792</td>\n",
       "      <td>0.996747</td>\n",
       "      <td>3.311113</td>\n",
       "      <td>0.658149</td>\n",
       "      <td>10.422983</td>\n",
       "      <td>5.636023</td>\n",
       "    </tr>\n",
       "    <tr>\n",
       "      <th>std</th>\n",
       "      <td>1.741096</td>\n",
       "      <td>0.179060</td>\n",
       "      <td>0.194801</td>\n",
       "      <td>1.409928</td>\n",
       "      <td>0.047065</td>\n",
       "      <td>10.460157</td>\n",
       "      <td>32.895324</td>\n",
       "      <td>0.001887</td>\n",
       "      <td>0.154386</td>\n",
       "      <td>0.169507</td>\n",
       "      <td>1.065668</td>\n",
       "      <td>0.807569</td>\n",
       "    </tr>\n",
       "    <tr>\n",
       "      <th>min</th>\n",
       "      <td>4.600000</td>\n",
       "      <td>0.120000</td>\n",
       "      <td>0.000000</td>\n",
       "      <td>0.900000</td>\n",
       "      <td>0.012000</td>\n",
       "      <td>1.000000</td>\n",
       "      <td>6.000000</td>\n",
       "      <td>0.990070</td>\n",
       "      <td>2.740000</td>\n",
       "      <td>0.330000</td>\n",
       "      <td>8.400000</td>\n",
       "      <td>3.000000</td>\n",
       "    </tr>\n",
       "    <tr>\n",
       "      <th>25%</th>\n",
       "      <td>7.100000</td>\n",
       "      <td>0.390000</td>\n",
       "      <td>0.090000</td>\n",
       "      <td>1.900000</td>\n",
       "      <td>0.070000</td>\n",
       "      <td>7.000000</td>\n",
       "      <td>22.000000</td>\n",
       "      <td>0.995600</td>\n",
       "      <td>3.210000</td>\n",
       "      <td>0.550000</td>\n",
       "      <td>9.500000</td>\n",
       "      <td>5.000000</td>\n",
       "    </tr>\n",
       "    <tr>\n",
       "      <th>50%</th>\n",
       "      <td>7.900000</td>\n",
       "      <td>0.520000</td>\n",
       "      <td>0.260000</td>\n",
       "      <td>2.200000</td>\n",
       "      <td>0.079000</td>\n",
       "      <td>14.000000</td>\n",
       "      <td>38.000000</td>\n",
       "      <td>0.996750</td>\n",
       "      <td>3.310000</td>\n",
       "      <td>0.620000</td>\n",
       "      <td>10.200000</td>\n",
       "      <td>6.000000</td>\n",
       "    </tr>\n",
       "    <tr>\n",
       "      <th>75%</th>\n",
       "      <td>9.200000</td>\n",
       "      <td>0.640000</td>\n",
       "      <td>0.420000</td>\n",
       "      <td>2.600000</td>\n",
       "      <td>0.090000</td>\n",
       "      <td>21.000000</td>\n",
       "      <td>62.000000</td>\n",
       "      <td>0.997835</td>\n",
       "      <td>3.400000</td>\n",
       "      <td>0.730000</td>\n",
       "      <td>11.100000</td>\n",
       "      <td>6.000000</td>\n",
       "    </tr>\n",
       "    <tr>\n",
       "      <th>max</th>\n",
       "      <td>15.900000</td>\n",
       "      <td>1.580000</td>\n",
       "      <td>1.000000</td>\n",
       "      <td>15.500000</td>\n",
       "      <td>0.611000</td>\n",
       "      <td>72.000000</td>\n",
       "      <td>289.000000</td>\n",
       "      <td>1.003690</td>\n",
       "      <td>4.010000</td>\n",
       "      <td>2.000000</td>\n",
       "      <td>14.900000</td>\n",
       "      <td>8.000000</td>\n",
       "    </tr>\n",
       "  </tbody>\n",
       "</table>\n",
       "</div>"
      ],
      "text/plain": [
       "       fixed acidity  volatile acidity  citric acid  residual sugar  \\\n",
       "count    1599.000000       1599.000000  1599.000000     1599.000000   \n",
       "mean        8.319637          0.527821     0.270976        2.538806   \n",
       "std         1.741096          0.179060     0.194801        1.409928   \n",
       "min         4.600000          0.120000     0.000000        0.900000   \n",
       "25%         7.100000          0.390000     0.090000        1.900000   \n",
       "50%         7.900000          0.520000     0.260000        2.200000   \n",
       "75%         9.200000          0.640000     0.420000        2.600000   \n",
       "max        15.900000          1.580000     1.000000       15.500000   \n",
       "\n",
       "         chlorides  free sulfur dioxide  total sulfur dioxide      density  \\\n",
       "count  1599.000000          1599.000000           1599.000000  1599.000000   \n",
       "mean      0.087467            15.874922             46.467792     0.996747   \n",
       "std       0.047065            10.460157             32.895324     0.001887   \n",
       "min       0.012000             1.000000              6.000000     0.990070   \n",
       "25%       0.070000             7.000000             22.000000     0.995600   \n",
       "50%       0.079000            14.000000             38.000000     0.996750   \n",
       "75%       0.090000            21.000000             62.000000     0.997835   \n",
       "max       0.611000            72.000000            289.000000     1.003690   \n",
       "\n",
       "                pH    sulphates      alcohol      quality  \n",
       "count  1599.000000  1599.000000  1599.000000  1599.000000  \n",
       "mean      3.311113     0.658149    10.422983     5.636023  \n",
       "std       0.154386     0.169507     1.065668     0.807569  \n",
       "min       2.740000     0.330000     8.400000     3.000000  \n",
       "25%       3.210000     0.550000     9.500000     5.000000  \n",
       "50%       3.310000     0.620000    10.200000     6.000000  \n",
       "75%       3.400000     0.730000    11.100000     6.000000  \n",
       "max       4.010000     2.000000    14.900000     8.000000  "
      ]
     },
     "execution_count": 120,
     "metadata": {},
     "output_type": "execute_result"
    }
   ],
   "source": [
    "df.describe()"
   ]
  },
  {
   "cell_type": "code",
   "execution_count": 121,
   "id": "1fee8ea6",
   "metadata": {},
   "outputs": [
    {
     "data": {
      "text/plain": [
       "5    681\n",
       "6    638\n",
       "7    199\n",
       "4     53\n",
       "8     18\n",
       "3     10\n",
       "Name: quality, dtype: int64"
      ]
     },
     "execution_count": 121,
     "metadata": {},
     "output_type": "execute_result"
    }
   ],
   "source": [
    "df['quality'].value_counts()"
   ]
  },
  {
   "cell_type": "markdown",
   "id": "cultural-collectible",
   "metadata": {
    "id": "manufactured-invalid",
    "papermill": {
     "duration": 0.027053,
     "end_time": "2021-04-06T13:50:39.041298",
     "exception": false,
     "start_time": "2021-04-06T13:50:39.014245",
     "status": "completed"
    },
    "tags": []
   },
   "source": [
    "<h3>Handling misssing data</h3>"
   ]
  },
  {
   "cell_type": "code",
   "execution_count": 122,
   "id": "characteristic-offense",
   "metadata": {
    "execution": {
     "iopub.execute_input": "2021-04-06T13:50:39.103302Z",
     "iopub.status.busy": "2021-04-06T13:50:39.100575Z",
     "iopub.status.idle": "2021-04-06T13:50:39.107763Z",
     "shell.execute_reply": "2021-04-06T13:50:39.107116Z"
    },
    "id": "grateful-evolution",
    "outputId": "089af2b0-fbbd-4cac-8e48-983239e85e23",
    "papermill": {
     "duration": 0.039163,
     "end_time": "2021-04-06T13:50:39.107890",
     "exception": false,
     "start_time": "2021-04-06T13:50:39.068727",
     "status": "completed"
    },
    "tags": []
   },
   "outputs": [
    {
     "data": {
      "text/plain": [
       "fixed acidity           0\n",
       "volatile acidity        0\n",
       "citric acid             0\n",
       "residual sugar          0\n",
       "chlorides               0\n",
       "free sulfur dioxide     0\n",
       "total sulfur dioxide    0\n",
       "density                 0\n",
       "pH                      0\n",
       "sulphates               0\n",
       "alcohol                 0\n",
       "quality                 0\n",
       "dtype: int64"
      ]
     },
     "execution_count": 122,
     "metadata": {},
     "output_type": "execute_result"
    }
   ],
   "source": [
    "#Checking for null\n",
    "df.isnull().sum()"
   ]
  },
  {
   "cell_type": "markdown",
   "id": "square-distance",
   "metadata": {
    "id": "confident-ethiopia",
    "papermill": {
     "duration": 0.026875,
     "end_time": "2021-04-06T13:50:39.162710",
     "exception": false,
     "start_time": "2021-04-06T13:50:39.135835",
     "status": "completed"
    },
    "tags": []
   },
   "source": [
    "<h2>Exploratory Data Analysis</h2>"
   ]
  },
  {
   "cell_type": "markdown",
   "id": "portable-conditioning",
   "metadata": {
    "id": "grateful-local",
    "papermill": {
     "duration": 0.027301,
     "end_time": "2021-04-06T13:50:39.216883",
     "exception": false,
     "start_time": "2021-04-06T13:50:39.189582",
     "status": "completed"
    },
    "tags": []
   },
   "source": [
    "<h4>HeatMap Correlation</h4>"
   ]
  },
  {
   "cell_type": "code",
   "execution_count": 123,
   "id": "powered-holmes",
   "metadata": {
    "execution": {
     "iopub.execute_input": "2021-04-06T13:50:39.290798Z",
     "iopub.status.busy": "2021-04-06T13:50:39.290155Z",
     "iopub.status.idle": "2021-04-06T13:50:40.228641Z",
     "shell.execute_reply": "2021-04-06T13:50:40.229107Z"
    },
    "id": "expired-quebec",
    "outputId": "bbdd60f3-ab81-4539-d05c-bfe07f52a712",
    "papermill": {
     "duration": 0.985651,
     "end_time": "2021-04-06T13:50:40.229301",
     "exception": false,
     "start_time": "2021-04-06T13:50:39.243650",
     "status": "completed"
    },
    "scrolled": true,
    "tags": []
   },
   "outputs": [
    {
     "data": {
      "image/png": "[encoded data removed]",
      "text/plain": [
       "<Figure size 720x504 with 2 Axes>"
      ]
     },
     "metadata": {
      "needs_background": "light"
     },
     "output_type": "display_data"
    }
   ],
   "source": [
    "fig , ax = plt.subplots(figsize = (10,7))\n",
    "sns.heatmap(df.corr() , annot = True , ax = ax)\n",
    "plt.show()"
   ]
  },
  {
   "cell_type": "markdown",
   "id": "ff71ee98",
   "metadata": {},
   "source": [
    "We have a high co-relation between fixed acidity and density of 0.67"
   ]
  },
  {
   "cell_type": "markdown",
   "id": "descending-flavor",
   "metadata": {
    "id": "emotional-tuner",
    "papermill": {
     "duration": 0.034233,
     "end_time": "2021-04-06T13:50:40.824850",
     "exception": false,
     "start_time": "2021-04-06T13:50:40.790617",
     "status": "completed"
    },
    "tags": []
   },
   "source": [
    "<h2>Data preprocessing</h2>"
   ]
  },
  {
   "cell_type": "markdown",
   "id": "normal-alexander",
   "metadata": {
    "id": "attempted-sunset",
    "papermill": {
     "duration": 0.034407,
     "end_time": "2021-04-06T13:50:40.893184",
     "exception": false,
     "start_time": "2021-04-06T13:50:40.858777",
     "status": "completed"
    },
    "tags": []
   },
   "source": [
    "<h3>Features Importance</h3>"
   ]
  },
  {
   "cell_type": "markdown",
   "id": "responsible-genealogy",
   "metadata": {
    "id": "perceived-channel",
    "papermill": {
     "duration": 0.034085,
     "end_time": "2021-04-06T13:50:40.962215",
     "exception": false,
     "start_time": "2021-04-06T13:50:40.928130",
     "status": "completed"
    },
    "tags": []
   },
   "source": [
    "<h4>Using random forrest to analyse the feature importance</h4>"
   ]
  },
  {
   "cell_type": "code",
   "execution_count": 124,
   "id": "authorized-switzerland",
   "metadata": {
    "execution": {
     "iopub.execute_input": "2021-04-06T13:50:41.034181Z",
     "iopub.status.busy": "2021-04-06T13:50:41.033584Z",
     "iopub.status.idle": "2021-04-06T13:50:42.229971Z",
     "shell.execute_reply": "2021-04-06T13:50:42.229377Z"
    },
    "id": "greatest-treasury",
    "outputId": "d12a206d-1a63-4ef5-c442-f6a57f1d9fbf",
    "papermill": {
     "duration": 1.233775,
     "end_time": "2021-04-06T13:50:42.230121",
     "exception": false,
     "start_time": "2021-04-06T13:50:40.996346",
     "status": "completed"
    },
    "tags": []
   },
   "outputs": [
    {
     "data": {
      "text/plain": [
       "array([0.05049791, 0.13604892, 0.04475298, 0.05247952, 0.05881777,\n",
       "       0.0458654 , 0.07643178, 0.0515247 , 0.05821171, 0.14268737,\n",
       "       0.28268191])"
      ]
     },
     "metadata": {},
     "output_type": "display_data"
    }
   ],
   "source": [
    "from sklearn.ensemble import RandomForestRegressor\n",
    "\n",
    "model = RandomForestRegressor(random_state=1, max_depth=12)\n",
    "x = df.drop(['quality'] , axis = 1)\n",
    "wd = pd.get_dummies(df)\n",
    "model.fit(x, df.quality)\n",
    "display(model.feature_importances_)"
   ]
  },
  {
   "cell_type": "code",
   "execution_count": 125,
   "id": "solved-residence",
   "metadata": {
    "execution": {
     "iopub.execute_input": "2021-04-06T13:50:42.307594Z",
     "iopub.status.busy": "2021-04-06T13:50:42.306979Z",
     "iopub.status.idle": "2021-04-06T13:50:42.482662Z",
     "shell.execute_reply": "2021-04-06T13:50:42.483139Z"
    },
    "id": "fabulous-slovakia",
    "outputId": "1949d6e3-1b0c-4a86-f90d-576b58fa9542",
    "papermill": {
     "duration": 0.21929,
     "end_time": "2021-04-06T13:50:42.483308",
     "exception": false,
     "start_time": "2021-04-06T13:50:42.264018",
     "status": "completed"
    },
    "tags": []
   },
   "outputs": [
    {
     "data": {
      "image/png": "[encoded data removed]",
      "text/plain": [
       "<Figure size 432x288 with 1 Axes>"
      ]
     },
     "metadata": {
      "needs_background": "light"
     },
     "output_type": "display_data"
    }
   ],
   "source": [
    "features = wd.columns\n",
    "importances = model.feature_importances_\n",
    "indices = np.argsort(importances)[:]\n",
    "plt.title('Feature Importances')\n",
    "plt.barh(range(len(indices)), importances[indices], color='b', align='center')\n",
    "plt.yticks(range(len(indices)), [features[i] for i in indices])\n",
    "plt.xlabel('Relative Importance')\n",
    "plt.show()"
   ]
  },
  {
   "cell_type": "markdown",
   "id": "annoying-acquisition",
   "metadata": {
    "id": "worst-street",
    "papermill": {
     "duration": 0.034705,
     "end_time": "2021-04-06T13:50:42.552548",
     "exception": false,
     "start_time": "2021-04-06T13:50:42.517843",
     "status": "completed"
    },
    "tags": []
   },
   "source": [
    "Removing the least important feautres according to the random forrest results"
   ]
  },
  {
   "cell_type": "code",
   "execution_count": 126,
   "id": "purple-musical",
   "metadata": {
    "execution": {
     "iopub.execute_input": "2021-04-06T13:50:42.629286Z",
     "iopub.status.busy": "2021-04-06T13:50:42.628320Z",
     "iopub.status.idle": "2021-04-06T13:50:42.633095Z",
     "shell.execute_reply": "2021-04-06T13:50:42.632550Z"
    },
    "id": "local-gamma",
    "papermill": {
     "duration": 0.045041,
     "end_time": "2021-04-06T13:50:42.633223",
     "exception": false,
     "start_time": "2021-04-06T13:50:42.588182",
     "status": "completed"
    },
    "tags": []
   },
   "outputs": [],
   "source": [
    "del x['fixed acidity']\n",
    "del x['free sulfur dioxide']\n",
    "del x['citric acid']"
   ]
  },
  {
   "cell_type": "code",
   "execution_count": 127,
   "id": "loaded-mobile",
   "metadata": {
    "execution": {
     "iopub.execute_input": "2021-04-06T13:50:42.778844Z",
     "iopub.status.busy": "2021-04-06T13:50:42.778116Z",
     "iopub.status.idle": "2021-04-06T13:50:42.781794Z",
     "shell.execute_reply": "2021-04-06T13:50:42.781184Z"
    },
    "id": "fundamental-enemy",
    "papermill": {
     "duration": 0.044206,
     "end_time": "2021-04-06T13:50:42.781908",
     "exception": false,
     "start_time": "2021-04-06T13:50:42.737702",
     "status": "completed"
    },
    "scrolled": true,
    "tags": []
   },
   "outputs": [],
   "source": [
    "le = LabelEncoder()\n",
    "y = le.fit_transform(df.iloc[: , -1])\n",
    "y = pd.DataFrame(y.reshape(len(y),1))"
   ]
  },
  {
   "cell_type": "markdown",
   "id": "endless-assembly",
   "metadata": {
    "id": "neutral-mineral",
    "papermill": {
     "duration": 0.036141,
     "end_time": "2021-04-06T13:50:43.250701",
     "exception": false,
     "start_time": "2021-04-06T13:50:43.214560",
     "status": "completed"
    },
    "tags": []
   },
   "source": [
    "<h4>Spliting data</h4>"
   ]
  },
  {
   "cell_type": "markdown",
   "id": "ef2450f7",
   "metadata": {},
   "source": [
    "The original data set is split such that 20% of the entire data is assigned as a test set and the rest remains as the training set. The train set is again split such that 20% of the train set is assigned as the validation set and the rest is used for the training purpose. Of the entire data set, 64% is treated as the training set, 16% as the validation set, and 20% as the test set."
   ]
  },
  {
   "cell_type": "code",
   "execution_count": 128,
   "id": "reverse-breakfast",
   "metadata": {
    "execution": {
     "iopub.execute_input": "2021-04-06T13:50:43.329819Z",
     "iopub.status.busy": "2021-04-06T13:50:43.328855Z",
     "iopub.status.idle": "2021-04-06T13:50:43.332931Z",
     "shell.execute_reply": "2021-04-06T13:50:43.333498Z"
    },
    "id": "invalid-politics",
    "papermill": {
     "duration": 0.046383,
     "end_time": "2021-04-06T13:50:43.333650",
     "exception": false,
     "start_time": "2021-04-06T13:50:43.287267",
     "status": "completed"
    },
    "scrolled": true,
    "tags": []
   },
   "outputs": [],
   "source": [
    "from sklearn.model_selection import train_test_split\n",
    "x_train, x_test, y_train, y_test = train_test_split(x, y, test_size = 0.2, random_state = 0)"
   ]
  },
  {
   "cell_type": "markdown",
   "id": "incorrect-consistency",
   "metadata": {
    "id": "involved-columbus",
    "papermill": {
     "duration": 0.035583,
     "end_time": "2021-04-06T13:50:43.406746",
     "exception": false,
     "start_time": "2021-04-06T13:50:43.371163",
     "status": "completed"
    },
    "tags": []
   },
   "source": [
    "<h4>Transforming quality to categorical data in training and test dataset</h4>"
   ]
  },
  {
   "cell_type": "code",
   "execution_count": 129,
   "id": "caroline-lafayette",
   "metadata": {
    "execution": {
     "iopub.execute_input": "2021-04-06T13:50:43.482038Z",
     "iopub.status.busy": "2021-04-06T13:50:43.481331Z",
     "iopub.status.idle": "2021-04-06T13:50:43.484677Z",
     "shell.execute_reply": "2021-04-06T13:50:43.485170Z"
    },
    "id": "dedicated-hearing",
    "papermill": {
     "duration": 0.043265,
     "end_time": "2021-04-06T13:50:43.485339",
     "exception": false,
     "start_time": "2021-04-06T13:50:43.442074",
     "status": "completed"
    },
    "tags": []
   },
   "outputs": [],
   "source": [
    "y_train_cat = tf.keras.utils.to_categorical(y_train, 6)\n",
    "y_test_cat = tf.keras.utils.to_categorical(y_test, 6)"
   ]
  },
  {
   "cell_type": "markdown",
   "id": "directed-works",
   "metadata": {
    "id": "geological-terror",
    "papermill": {
     "duration": 0.034987,
     "end_time": "2021-04-06T13:50:43.556777",
     "exception": false,
     "start_time": "2021-04-06T13:50:43.521790",
     "status": "completed"
    },
    "tags": []
   },
   "source": [
    "<h4>Scaling</h4>"
   ]
  },
  {
   "cell_type": "code",
   "execution_count": 153,
   "id": "verified-thirty",
   "metadata": {
    "execution": {
     "iopub.execute_input": "2021-04-06T13:50:43.637463Z",
     "iopub.status.busy": "2021-04-06T13:50:43.636749Z",
     "iopub.status.idle": "2021-04-06T13:50:43.645852Z",
     "shell.execute_reply": "2021-04-06T13:50:43.646321Z"
    },
    "id": "universal-underwear",
    "papermill": {
     "duration": 0.052796,
     "end_time": "2021-04-06T13:50:43.646503",
     "exception": false,
     "start_time": "2021-04-06T13:50:43.593707",
     "status": "completed"
    },
    "tags": []
   },
   "outputs": [],
   "source": [
    "sc = StandardScaler()\n",
    "\n",
    "x_train = sc.fit_transform(x_train)\n",
    "x_test = sc.fit_transform(x_test)"
   ]
  },
  {
   "cell_type": "markdown",
   "id": "speaking-silly",
   "metadata": {
    "id": "meaningful-individual",
    "papermill": {
     "duration": 0.03592,
     "end_time": "2021-04-06T13:50:43.718188",
     "exception": false,
     "start_time": "2021-04-06T13:50:43.682268",
     "status": "completed"
    },
    "tags": []
   },
   "source": [
    "<h2>DNN Classifier</h2>"
   ]
  },
  {
   "cell_type": "code",
   "execution_count": 154,
   "id": "velvet-buffalo",
   "metadata": {
    "execution": {
     "iopub.execute_input": "2021-04-06T13:50:43.872800Z",
     "iopub.status.busy": "2021-04-06T13:50:43.872179Z",
     "iopub.status.idle": "2021-04-06T13:50:43.905575Z",
     "shell.execute_reply": "2021-04-06T13:50:43.906202Z"
    },
    "id": "employed-graphics",
    "papermill": {
     "duration": 0.074181,
     "end_time": "2021-04-06T13:50:43.906385",
     "exception": false,
     "start_time": "2021-04-06T13:50:43.832204",
     "status": "completed"
    },
    "tags": []
   },
   "outputs": [],
   "source": [
    "ann = tf.keras.models.Sequential(layers = None , name = None)"
   ]
  },
  {
   "cell_type": "code",
   "execution_count": 155,
   "id": "paperback-germany",
   "metadata": {
    "execution": {
     "iopub.execute_input": "2021-04-06T13:50:43.984262Z",
     "iopub.status.busy": "2021-04-06T13:50:43.983358Z",
     "iopub.status.idle": "2021-04-06T13:50:43.992629Z",
     "shell.execute_reply": "2021-04-06T13:50:43.993135Z"
    },
    "id": "convertible-bicycle",
    "papermill": {
     "duration": 0.050031,
     "end_time": "2021-04-06T13:50:43.993311",
     "exception": false,
     "start_time": "2021-04-06T13:50:43.943280",
     "status": "completed"
    },
    "tags": []
   },
   "outputs": [],
   "source": [
    "ann.add(tf.keras.layers.Input(shape = 8,))"
   ]
  },
  {
   "cell_type": "markdown",
   "id": "dd4bcd84",
   "metadata": {},
   "source": [
    "Since we removed the 3 unwanted features so the shape is going to be 8 "
   ]
  },
  {
   "cell_type": "code",
   "execution_count": 156,
   "id": "expired-moderator",
   "metadata": {
    "execution": {
     "iopub.execute_input": "2021-04-06T13:50:44.070196Z",
     "iopub.status.busy": "2021-04-06T13:50:44.068997Z",
     "iopub.status.idle": "2021-04-06T13:50:44.104939Z",
     "shell.execute_reply": "2021-04-06T13:50:44.105512Z"
    },
    "id": "concerned-premises",
    "papermill": {
     "duration": 0.076236,
     "end_time": "2021-04-06T13:50:44.105685",
     "exception": false,
     "start_time": "2021-04-06T13:50:44.029449",
     "status": "completed"
    },
    "tags": []
   },
   "outputs": [],
   "source": [
    "ann.add(tf.keras.layers.Dense(units = 16 , activation = \"relu\" ))"
   ]
  },
  {
   "cell_type": "markdown",
   "id": "2e346c16",
   "metadata": {},
   "source": [
    "Hidden layer 1: 16 neurons, ReLU activation"
   ]
  },
  {
   "cell_type": "code",
   "execution_count": 157,
   "id": "prescribed-integer",
   "metadata": {
    "execution": {
     "iopub.execute_input": "2021-04-06T13:50:44.184243Z",
     "iopub.status.busy": "2021-04-06T13:50:44.183327Z",
     "iopub.status.idle": "2021-04-06T13:50:44.194760Z",
     "shell.execute_reply": "2021-04-06T13:50:44.195323Z"
    },
    "id": "opposed-episode",
    "papermill": {
     "duration": 0.051649,
     "end_time": "2021-04-06T13:50:44.195507",
     "exception": false,
     "start_time": "2021-04-06T13:50:44.143858",
     "status": "completed"
    },
    "tags": []
   },
   "outputs": [],
   "source": [
    "ann.add(tf.keras.layers.Dense(units = 8 , activation = \"relu\" ))"
   ]
  },
  {
   "cell_type": "markdown",
   "id": "15b89470",
   "metadata": {},
   "source": [
    "Hidden layer 2: 8 neurons, ReLU activation"
   ]
  },
  {
   "cell_type": "code",
   "execution_count": 158,
   "id": "northern-pound",
   "metadata": {
    "execution": {
     "iopub.execute_input": "2021-04-06T13:50:44.272868Z",
     "iopub.status.busy": "2021-04-06T13:50:44.272019Z",
     "iopub.status.idle": "2021-04-06T13:50:44.284553Z",
     "shell.execute_reply": "2021-04-06T13:50:44.284000Z"
    },
    "id": "stainless-transition",
    "papermill": {
     "duration": 0.051786,
     "end_time": "2021-04-06T13:50:44.284689",
     "exception": false,
     "start_time": "2021-04-06T13:50:44.232903",
     "status": "completed"
    },
    "tags": []
   },
   "outputs": [],
   "source": [
    "ann.add(tf.keras.layers.Dense(units = 6 , activation = \"sigmoid\"))"
   ]
  },
  {
   "cell_type": "markdown",
   "id": "0b393528",
   "metadata": {},
   "source": [
    "Output Layer: 6 neuron, Sigmoid activation"
   ]
  },
  {
   "cell_type": "code",
   "execution_count": 159,
   "id": "accurate-casino",
   "metadata": {
    "execution": {
     "iopub.execute_input": "2021-04-06T13:50:44.364428Z",
     "iopub.status.busy": "2021-04-06T13:50:44.363772Z",
     "iopub.status.idle": "2021-04-06T13:50:44.369149Z",
     "shell.execute_reply": "2021-04-06T13:50:44.369588Z"
    },
    "id": "difficult-symposium",
    "outputId": "d86e580c-3bea-4939-954e-65a0e9649188",
    "papermill": {
     "duration": 0.048261,
     "end_time": "2021-04-06T13:50:44.369746",
     "exception": false,
     "start_time": "2021-04-06T13:50:44.321485",
     "status": "completed"
    },
    "tags": []
   },
   "outputs": [
    {
     "name": "stdout",
     "output_type": "stream",
     "text": [
      "Model: \"sequential_10\"\n",
      "_________________________________________________________________\n",
      " Layer (type)                Output Shape              Param #   \n",
      "=================================================================\n",
      " dense_27 (Dense)            (None, 16)                144       \n",
      "                                                                 \n",
      " dense_28 (Dense)            (None, 8)                 136       \n",
      "                                                                 \n",
      " dense_29 (Dense)            (None, 6)                 54        \n",
      "                                                                 \n",
      "=================================================================\n",
      "Total params: 334\n",
      "Trainable params: 334\n",
      "Non-trainable params: 0\n",
      "_________________________________________________________________\n"
     ]
    }
   ],
   "source": [
    "ann.summary()"
   ]
  },
  {
   "cell_type": "code",
   "execution_count": 160,
   "id": "bridal-paint",
   "metadata": {
    "execution": {
     "iopub.execute_input": "2021-04-06T13:50:44.448036Z",
     "iopub.status.busy": "2021-04-06T13:50:44.447483Z",
     "iopub.status.idle": "2021-04-06T13:50:44.460755Z",
     "shell.execute_reply": "2021-04-06T13:50:44.461265Z"
    },
    "id": "attractive-parking",
    "papermill": {
     "duration": 0.053923,
     "end_time": "2021-04-06T13:50:44.461419",
     "exception": false,
     "start_time": "2021-04-06T13:50:44.407496",
     "status": "completed"
    },
    "tags": []
   },
   "outputs": [],
   "source": [
    "ann.compile(optimizer = 'adam' , loss = 'categorical_crossentropy' ,metrics= ['accuracy'])"
   ]
  },
  {
   "cell_type": "markdown",
   "id": "4614c951",
   "metadata": {},
   "source": [
    "We are using the adam optimizer and metrics as accuracy "
   ]
  },
  {
   "cell_type": "code",
   "execution_count": 161,
   "id": "potential-shield",
   "metadata": {
    "execution": {
     "iopub.execute_input": "2021-04-06T13:50:44.539146Z",
     "iopub.status.busy": "2021-04-06T13:50:44.538562Z",
     "iopub.status.idle": "2021-04-06T13:51:34.282553Z",
     "shell.execute_reply": "2021-04-06T13:51:34.281767Z"
    },
    "id": "considered-homeless",
    "outputId": "eef3d2db-6868-4a29-a351-4bf58d78b484",
    "papermill": {
     "duration": 49.783532,
     "end_time": "2021-04-06T13:51:34.282780",
     "exception": false,
     "start_time": "2021-04-06T13:50:44.499248",
     "status": "completed"
    },
    "tags": []
   },
   "outputs": [
    {
     "name": "stdout",
     "output_type": "stream",
     "text": [
      "Epoch 1/150\n",
      "40/40 [==============================] - 1s 11ms/step - loss: 1.7919 - accuracy: 0.2807 - val_loss: 1.6589 - val_accuracy: 0.4531\n",
      "Epoch 2/150\n",
      "40/40 [==============================] - 0s 7ms/step - loss: 1.6205 - accuracy: 0.4472 - val_loss: 1.5104 - val_accuracy: 0.4938\n",
      "Epoch 3/150\n",
      "40/40 [==============================] - 0s 6ms/step - loss: 1.4697 - accuracy: 0.4902 - val_loss: 1.3492 - val_accuracy: 0.5656\n",
      "Epoch 4/150\n",
      "40/40 [==============================] - 0s 4ms/step - loss: 1.3055 - accuracy: 0.5457 - val_loss: 1.1941 - val_accuracy: 0.5938\n",
      "Epoch 5/150\n",
      "40/40 [==============================] - 0s 4ms/step - loss: 1.1778 - accuracy: 0.5590 - val_loss: 1.1058 - val_accuracy: 0.6281\n",
      "Epoch 6/150\n",
      "40/40 [==============================] - 0s 3ms/step - loss: 1.1063 - accuracy: 0.5692 - val_loss: 1.0596 - val_accuracy: 0.6344\n",
      "Epoch 7/150\n",
      "40/40 [==============================] - 0s 3ms/step - loss: 1.0674 - accuracy: 0.5653 - val_loss: 1.0344 - val_accuracy: 0.6438\n",
      "Epoch 8/150\n",
      "40/40 [==============================] - 0s 3ms/step - loss: 1.0441 - accuracy: 0.5700 - val_loss: 1.0172 - val_accuracy: 0.6438\n",
      "Epoch 9/150\n",
      "40/40 [==============================] - 0s 5ms/step - loss: 1.0255 - accuracy: 0.5723 - val_loss: 1.0054 - val_accuracy: 0.6375\n",
      "Epoch 10/150\n",
      "40/40 [==============================] - 0s 4ms/step - loss: 1.0127 - accuracy: 0.5817 - val_loss: 0.9982 - val_accuracy: 0.6406\n",
      "Epoch 11/150\n",
      "40/40 [==============================] - 0s 3ms/step - loss: 1.0021 - accuracy: 0.5833 - val_loss: 0.9881 - val_accuracy: 0.6344\n",
      "Epoch 12/150\n",
      "40/40 [==============================] - 0s 3ms/step - loss: 0.9917 - accuracy: 0.5856 - val_loss: 0.9859 - val_accuracy: 0.6344\n",
      "Epoch 13/150\n",
      "40/40 [==============================] - 0s 3ms/step - loss: 0.9838 - accuracy: 0.5856 - val_loss: 0.9824 - val_accuracy: 0.6375\n",
      "Epoch 14/150\n",
      "40/40 [==============================] - 0s 3ms/step - loss: 0.9770 - accuracy: 0.5950 - val_loss: 0.9803 - val_accuracy: 0.6281\n",
      "Epoch 15/150\n",
      "40/40 [==============================] - 0s 3ms/step - loss: 0.9714 - accuracy: 0.5919 - val_loss: 0.9764 - val_accuracy: 0.6250\n",
      "Epoch 16/150\n",
      "40/40 [==============================] - 0s 5ms/step - loss: 0.9668 - accuracy: 0.5911 - val_loss: 0.9741 - val_accuracy: 0.6219\n",
      "Epoch 17/150\n",
      "40/40 [==============================] - 0s 6ms/step - loss: 0.9621 - accuracy: 0.5981 - val_loss: 0.9735 - val_accuracy: 0.6187\n",
      "Epoch 18/150\n",
      "40/40 [==============================] - 0s 4ms/step - loss: 0.9582 - accuracy: 0.5950 - val_loss: 0.9721 - val_accuracy: 0.6062\n",
      "Epoch 19/150\n",
      "40/40 [==============================] - 0s 4ms/step - loss: 0.9544 - accuracy: 0.5966 - val_loss: 0.9698 - val_accuracy: 0.6062\n",
      "Epoch 20/150\n",
      "40/40 [==============================] - 0s 4ms/step - loss: 0.9517 - accuracy: 0.5981 - val_loss: 0.9679 - val_accuracy: 0.6094\n",
      "Epoch 21/150\n",
      "40/40 [==============================] - 0s 4ms/step - loss: 0.9478 - accuracy: 0.6013 - val_loss: 0.9650 - val_accuracy: 0.6250\n",
      "Epoch 22/150\n",
      "40/40 [==============================] - 0s 4ms/step - loss: 0.9452 - accuracy: 0.6036 - val_loss: 0.9648 - val_accuracy: 0.6125\n",
      "Epoch 23/150\n",
      "40/40 [==============================] - 0s 3ms/step - loss: 0.9421 - accuracy: 0.5981 - val_loss: 0.9615 - val_accuracy: 0.6250\n",
      "Epoch 24/150\n",
      "40/40 [==============================] - 0s 3ms/step - loss: 0.9398 - accuracy: 0.5997 - val_loss: 0.9623 - val_accuracy: 0.6187\n",
      "Epoch 25/150\n",
      "40/40 [==============================] - 0s 3ms/step - loss: 0.9365 - accuracy: 0.6020 - val_loss: 0.9603 - val_accuracy: 0.6219\n",
      "Epoch 26/150\n",
      "40/40 [==============================] - 0s 2ms/step - loss: 0.9340 - accuracy: 0.6013 - val_loss: 0.9593 - val_accuracy: 0.6187\n",
      "Epoch 27/150\n",
      "40/40 [==============================] - 0s 3ms/step - loss: 0.9320 - accuracy: 0.6020 - val_loss: 0.9592 - val_accuracy: 0.6156\n",
      "Epoch 28/150\n",
      "40/40 [==============================] - 0s 3ms/step - loss: 0.9298 - accuracy: 0.6028 - val_loss: 0.9587 - val_accuracy: 0.6125\n",
      "Epoch 29/150\n",
      "40/40 [==============================] - 0s 3ms/step - loss: 0.9274 - accuracy: 0.6005 - val_loss: 0.9567 - val_accuracy: 0.6281\n",
      "Epoch 30/150\n",
      "40/40 [==============================] - 0s 3ms/step - loss: 0.9258 - accuracy: 0.6052 - val_loss: 0.9537 - val_accuracy: 0.6156\n",
      "Epoch 31/150\n",
      "40/40 [==============================] - 0s 3ms/step - loss: 0.9241 - accuracy: 0.6036 - val_loss: 0.9530 - val_accuracy: 0.6156\n",
      "Epoch 32/150\n",
      "40/40 [==============================] - 0s 3ms/step - loss: 0.9227 - accuracy: 0.6106 - val_loss: 0.9510 - val_accuracy: 0.6187\n",
      "Epoch 33/150\n",
      "40/40 [==============================] - 0s 3ms/step - loss: 0.9204 - accuracy: 0.6044 - val_loss: 0.9491 - val_accuracy: 0.6187\n",
      "Epoch 34/150\n",
      "40/40 [==============================] - 0s 3ms/step - loss: 0.9184 - accuracy: 0.6114 - val_loss: 0.9488 - val_accuracy: 0.6313\n",
      "Epoch 35/150\n",
      "40/40 [==============================] - 0s 3ms/step - loss: 0.9172 - accuracy: 0.6091 - val_loss: 0.9487 - val_accuracy: 0.6125\n",
      "Epoch 36/150\n",
      "40/40 [==============================] - 0s 3ms/step - loss: 0.9153 - accuracy: 0.6114 - val_loss: 0.9474 - val_accuracy: 0.6219\n",
      "Epoch 37/150\n",
      "40/40 [==============================] - 0s 3ms/step - loss: 0.9142 - accuracy: 0.6091 - val_loss: 0.9454 - val_accuracy: 0.6094\n",
      "Epoch 38/150\n",
      "40/40 [==============================] - 0s 2ms/step - loss: 0.9122 - accuracy: 0.6067 - val_loss: 0.9459 - val_accuracy: 0.6094\n",
      "Epoch 39/150\n",
      "40/40 [==============================] - 0s 2ms/step - loss: 0.9116 - accuracy: 0.6044 - val_loss: 0.9407 - val_accuracy: 0.6187\n",
      "Epoch 40/150\n",
      "40/40 [==============================] - 0s 2ms/step - loss: 0.9097 - accuracy: 0.6067 - val_loss: 0.9419 - val_accuracy: 0.6281\n",
      "Epoch 41/150\n",
      "40/40 [==============================] - 0s 2ms/step - loss: 0.9085 - accuracy: 0.6130 - val_loss: 0.9447 - val_accuracy: 0.6125\n",
      "Epoch 42/150\n",
      "40/40 [==============================] - 0s 2ms/step - loss: 0.9063 - accuracy: 0.6059 - val_loss: 0.9436 - val_accuracy: 0.6187\n",
      "Epoch 43/150\n",
      "40/40 [==============================] - 0s 3ms/step - loss: 0.9056 - accuracy: 0.6114 - val_loss: 0.9401 - val_accuracy: 0.6281\n",
      "Epoch 44/150\n",
      "40/40 [==============================] - 0s 2ms/step - loss: 0.9047 - accuracy: 0.6091 - val_loss: 0.9416 - val_accuracy: 0.6219\n",
      "Epoch 45/150\n",
      "40/40 [==============================] - 0s 2ms/step - loss: 0.9016 - accuracy: 0.6083 - val_loss: 0.9392 - val_accuracy: 0.6250\n",
      "Epoch 46/150\n",
      "40/40 [==============================] - 0s 2ms/step - loss: 0.9010 - accuracy: 0.6036 - val_loss: 0.9395 - val_accuracy: 0.6219\n",
      "Epoch 47/150\n",
      "40/40 [==============================] - 0s 3ms/step - loss: 0.8995 - accuracy: 0.6052 - val_loss: 0.9387 - val_accuracy: 0.6219\n",
      "Epoch 48/150\n",
      "40/40 [==============================] - 0s 2ms/step - loss: 0.8979 - accuracy: 0.6138 - val_loss: 0.9381 - val_accuracy: 0.6219\n",
      "Epoch 49/150\n",
      "40/40 [==============================] - 0s 3ms/step - loss: 0.8971 - accuracy: 0.6099 - val_loss: 0.9361 - val_accuracy: 0.6250\n",
      "Epoch 50/150\n",
      "40/40 [==============================] - 0s 3ms/step - loss: 0.8968 - accuracy: 0.6106 - val_loss: 0.9348 - val_accuracy: 0.6187\n",
      "Epoch 51/150\n",
      "40/40 [==============================] - 0s 3ms/step - loss: 0.8941 - accuracy: 0.6059 - val_loss: 0.9356 - val_accuracy: 0.6281\n",
      "Epoch 52/150\n",
      "40/40 [==============================] - 0s 2ms/step - loss: 0.8938 - accuracy: 0.6083 - val_loss: 0.9348 - val_accuracy: 0.6219\n",
      "Epoch 53/150\n",
      "40/40 [==============================] - 0s 2ms/step - loss: 0.8921 - accuracy: 0.6130 - val_loss: 0.9353 - val_accuracy: 0.6250\n",
      "Epoch 54/150\n",
      "40/40 [==============================] - 0s 2ms/step - loss: 0.8921 - accuracy: 0.6083 - val_loss: 0.9344 - val_accuracy: 0.6281\n",
      "Epoch 55/150\n",
      "40/40 [==============================] - 0s 2ms/step - loss: 0.8908 - accuracy: 0.6083 - val_loss: 0.9308 - val_accuracy: 0.6281\n",
      "Epoch 56/150\n",
      "40/40 [==============================] - 0s 2ms/step - loss: 0.8894 - accuracy: 0.6161 - val_loss: 0.9333 - val_accuracy: 0.6219\n",
      "Epoch 57/150\n",
      "40/40 [==============================] - 0s 3ms/step - loss: 0.8873 - accuracy: 0.6122 - val_loss: 0.9289 - val_accuracy: 0.6219\n",
      "Epoch 58/150\n",
      "40/40 [==============================] - 0s 2ms/step - loss: 0.8879 - accuracy: 0.6106 - val_loss: 0.9309 - val_accuracy: 0.6313\n"
     ]
    },
    {
     "name": "stdout",
     "output_type": "stream",
     "text": [
      "Epoch 59/150\n",
      "40/40 [==============================] - 0s 2ms/step - loss: 0.8871 - accuracy: 0.6145 - val_loss: 0.9296 - val_accuracy: 0.6219\n",
      "Epoch 60/150\n",
      "40/40 [==============================] - 0s 2ms/step - loss: 0.8846 - accuracy: 0.6153 - val_loss: 0.9310 - val_accuracy: 0.6187\n",
      "Epoch 61/150\n",
      "40/40 [==============================] - 0s 2ms/step - loss: 0.8840 - accuracy: 0.6122 - val_loss: 0.9287 - val_accuracy: 0.6187\n",
      "Epoch 62/150\n",
      "40/40 [==============================] - 0s 2ms/step - loss: 0.8834 - accuracy: 0.6153 - val_loss: 0.9285 - val_accuracy: 0.6219\n",
      "Epoch 63/150\n",
      "40/40 [==============================] - 0s 2ms/step - loss: 0.8828 - accuracy: 0.6099 - val_loss: 0.9255 - val_accuracy: 0.6250\n",
      "Epoch 64/150\n",
      "40/40 [==============================] - 0s 2ms/step - loss: 0.8807 - accuracy: 0.6185 - val_loss: 0.9242 - val_accuracy: 0.6281\n",
      "Epoch 65/150\n",
      "40/40 [==============================] - 0s 2ms/step - loss: 0.8804 - accuracy: 0.6138 - val_loss: 0.9254 - val_accuracy: 0.6281\n",
      "Epoch 66/150\n",
      "40/40 [==============================] - 0s 2ms/step - loss: 0.8796 - accuracy: 0.6114 - val_loss: 0.9248 - val_accuracy: 0.6250\n",
      "Epoch 67/150\n",
      "40/40 [==============================] - 0s 2ms/step - loss: 0.8787 - accuracy: 0.6106 - val_loss: 0.9239 - val_accuracy: 0.6281\n",
      "Epoch 68/150\n",
      "40/40 [==============================] - 0s 2ms/step - loss: 0.8781 - accuracy: 0.6200 - val_loss: 0.9252 - val_accuracy: 0.6250\n",
      "Epoch 69/150\n",
      "40/40 [==============================] - 0s 2ms/step - loss: 0.8768 - accuracy: 0.6153 - val_loss: 0.9238 - val_accuracy: 0.6281\n",
      "Epoch 70/150\n",
      "40/40 [==============================] - 0s 2ms/step - loss: 0.8753 - accuracy: 0.6177 - val_loss: 0.9243 - val_accuracy: 0.6281\n",
      "Epoch 71/150\n",
      "40/40 [==============================] - 0s 2ms/step - loss: 0.8744 - accuracy: 0.6169 - val_loss: 0.9238 - val_accuracy: 0.6281\n",
      "Epoch 72/150\n",
      "40/40 [==============================] - 0s 2ms/step - loss: 0.8748 - accuracy: 0.6153 - val_loss: 0.9259 - val_accuracy: 0.6219\n",
      "Epoch 73/150\n",
      "40/40 [==============================] - 0s 2ms/step - loss: 0.8731 - accuracy: 0.6200 - val_loss: 0.9231 - val_accuracy: 0.6281\n",
      "Epoch 74/150\n",
      "40/40 [==============================] - 0s 2ms/step - loss: 0.8730 - accuracy: 0.6216 - val_loss: 0.9223 - val_accuracy: 0.6313\n",
      "Epoch 75/150\n",
      "40/40 [==============================] - 0s 2ms/step - loss: 0.8725 - accuracy: 0.6169 - val_loss: 0.9231 - val_accuracy: 0.6281\n",
      "Epoch 76/150\n",
      "40/40 [==============================] - 0s 2ms/step - loss: 0.8718 - accuracy: 0.6224 - val_loss: 0.9214 - val_accuracy: 0.6250\n",
      "Epoch 77/150\n",
      "40/40 [==============================] - 0s 2ms/step - loss: 0.8709 - accuracy: 0.6271 - val_loss: 0.9246 - val_accuracy: 0.6250\n",
      "Epoch 78/150\n",
      "40/40 [==============================] - 0s 2ms/step - loss: 0.8694 - accuracy: 0.6231 - val_loss: 0.9206 - val_accuracy: 0.6313\n",
      "Epoch 79/150\n",
      "40/40 [==============================] - 0s 2ms/step - loss: 0.8695 - accuracy: 0.6208 - val_loss: 0.9214 - val_accuracy: 0.6281\n",
      "Epoch 80/150\n",
      "40/40 [==============================] - 0s 2ms/step - loss: 0.8687 - accuracy: 0.6216 - val_loss: 0.9199 - val_accuracy: 0.6281\n",
      "Epoch 81/150\n",
      "40/40 [==============================] - 0s 2ms/step - loss: 0.8689 - accuracy: 0.6247 - val_loss: 0.9214 - val_accuracy: 0.6313\n",
      "Epoch 82/150\n",
      "40/40 [==============================] - 0s 3ms/step - loss: 0.8670 - accuracy: 0.6239 - val_loss: 0.9195 - val_accuracy: 0.6313\n",
      "Epoch 83/150\n",
      "40/40 [==============================] - 0s 2ms/step - loss: 0.8662 - accuracy: 0.6278 - val_loss: 0.9225 - val_accuracy: 0.6219\n",
      "Epoch 84/150\n",
      "40/40 [==============================] - 0s 2ms/step - loss: 0.8657 - accuracy: 0.6271 - val_loss: 0.9218 - val_accuracy: 0.6281\n",
      "Epoch 85/150\n",
      "40/40 [==============================] - 0s 2ms/step - loss: 0.8647 - accuracy: 0.6247 - val_loss: 0.9211 - val_accuracy: 0.6281\n",
      "Epoch 86/150\n",
      "40/40 [==============================] - 0s 2ms/step - loss: 0.8636 - accuracy: 0.6224 - val_loss: 0.9237 - val_accuracy: 0.6313\n",
      "Epoch 87/150\n",
      "40/40 [==============================] - 0s 2ms/step - loss: 0.8635 - accuracy: 0.6247 - val_loss: 0.9215 - val_accuracy: 0.6344\n",
      "Epoch 88/150\n",
      "40/40 [==============================] - 0s 2ms/step - loss: 0.8635 - accuracy: 0.6271 - val_loss: 0.9224 - val_accuracy: 0.6281\n",
      "Epoch 89/150\n",
      "40/40 [==============================] - 0s 2ms/step - loss: 0.8620 - accuracy: 0.6247 - val_loss: 0.9203 - val_accuracy: 0.6281\n",
      "Epoch 90/150\n",
      "40/40 [==============================] - 0s 2ms/step - loss: 0.8609 - accuracy: 0.6263 - val_loss: 0.9206 - val_accuracy: 0.6250\n",
      "Epoch 91/150\n",
      "40/40 [==============================] - 0s 2ms/step - loss: 0.8611 - accuracy: 0.6200 - val_loss: 0.9193 - val_accuracy: 0.6313\n",
      "Epoch 92/150\n",
      "40/40 [==============================] - 0s 3ms/step - loss: 0.8599 - accuracy: 0.6278 - val_loss: 0.9230 - val_accuracy: 0.6281\n",
      "Epoch 93/150\n",
      "40/40 [==============================] - 0s 3ms/step - loss: 0.8582 - accuracy: 0.6247 - val_loss: 0.9198 - val_accuracy: 0.6375\n",
      "Epoch 94/150\n",
      "40/40 [==============================] - 0s 6ms/step - loss: 0.8579 - accuracy: 0.6271 - val_loss: 0.9220 - val_accuracy: 0.6313\n",
      "Epoch 95/150\n",
      "40/40 [==============================] - 0s 6ms/step - loss: 0.8571 - accuracy: 0.6333 - val_loss: 0.9196 - val_accuracy: 0.6344\n",
      "Epoch 96/150\n",
      "40/40 [==============================] - 0s 5ms/step - loss: 0.8566 - accuracy: 0.6271 - val_loss: 0.9208 - val_accuracy: 0.6375\n",
      "Epoch 97/150\n",
      "40/40 [==============================] - 0s 5ms/step - loss: 0.8553 - accuracy: 0.6333 - val_loss: 0.9203 - val_accuracy: 0.6344\n",
      "Epoch 98/150\n",
      "40/40 [==============================] - 0s 5ms/step - loss: 0.8548 - accuracy: 0.6310 - val_loss: 0.9227 - val_accuracy: 0.6281\n",
      "Epoch 99/150\n",
      "40/40 [==============================] - 0s 5ms/step - loss: 0.8547 - accuracy: 0.6278 - val_loss: 0.9236 - val_accuracy: 0.6281\n",
      "Epoch 100/150\n",
      "40/40 [==============================] - 0s 4ms/step - loss: 0.8546 - accuracy: 0.6325 - val_loss: 0.9214 - val_accuracy: 0.6250\n",
      "Epoch 101/150\n",
      "40/40 [==============================] - 0s 2ms/step - loss: 0.8539 - accuracy: 0.6333 - val_loss: 0.9214 - val_accuracy: 0.6344\n",
      "Epoch 102/150\n",
      "40/40 [==============================] - 0s 4ms/step - loss: 0.8532 - accuracy: 0.6325 - val_loss: 0.9234 - val_accuracy: 0.6344\n",
      "Epoch 103/150\n",
      "40/40 [==============================] - 0s 3ms/step - loss: 0.8525 - accuracy: 0.6333 - val_loss: 0.9220 - val_accuracy: 0.6281\n",
      "Epoch 104/150\n",
      "40/40 [==============================] - 0s 4ms/step - loss: 0.8521 - accuracy: 0.6333 - val_loss: 0.9191 - val_accuracy: 0.6313\n",
      "Epoch 105/150\n",
      "40/40 [==============================] - 0s 4ms/step - loss: 0.8510 - accuracy: 0.6310 - val_loss: 0.9210 - val_accuracy: 0.6281\n",
      "Epoch 106/150\n",
      "40/40 [==============================] - 0s 3ms/step - loss: 0.8509 - accuracy: 0.6294 - val_loss: 0.9245 - val_accuracy: 0.6313\n",
      "Epoch 107/150\n",
      "40/40 [==============================] - 0s 3ms/step - loss: 0.8505 - accuracy: 0.6310 - val_loss: 0.9183 - val_accuracy: 0.6313\n",
      "Epoch 108/150\n",
      "40/40 [==============================] - 0s 3ms/step - loss: 0.8492 - accuracy: 0.6349 - val_loss: 0.9232 - val_accuracy: 0.6344\n",
      "Epoch 109/150\n",
      "40/40 [==============================] - 0s 3ms/step - loss: 0.8499 - accuracy: 0.6333 - val_loss: 0.9234 - val_accuracy: 0.6313\n",
      "Epoch 110/150\n",
      "40/40 [==============================] - 0s 2ms/step - loss: 0.8488 - accuracy: 0.6333 - val_loss: 0.9212 - val_accuracy: 0.6313\n",
      "Epoch 111/150\n",
      "40/40 [==============================] - 0s 2ms/step - loss: 0.8477 - accuracy: 0.6388 - val_loss: 0.9186 - val_accuracy: 0.6313\n",
      "Epoch 112/150\n",
      "40/40 [==============================] - 0s 2ms/step - loss: 0.8482 - accuracy: 0.6357 - val_loss: 0.9213 - val_accuracy: 0.6313\n",
      "Epoch 113/150\n",
      "40/40 [==============================] - 0s 2ms/step - loss: 0.8476 - accuracy: 0.6333 - val_loss: 0.9209 - val_accuracy: 0.6313\n",
      "Epoch 114/150\n",
      "40/40 [==============================] - 0s 2ms/step - loss: 0.8463 - accuracy: 0.6341 - val_loss: 0.9203 - val_accuracy: 0.6281\n",
      "Epoch 115/150\n",
      "40/40 [==============================] - 0s 2ms/step - loss: 0.8458 - accuracy: 0.6372 - val_loss: 0.9206 - val_accuracy: 0.6313\n",
      "Epoch 116/150\n"
     ]
    },
    {
     "name": "stdout",
     "output_type": "stream",
     "text": [
      "40/40 [==============================] - 0s 3ms/step - loss: 0.8450 - accuracy: 0.6380 - val_loss: 0.9209 - val_accuracy: 0.6281\n",
      "Epoch 117/150\n",
      "40/40 [==============================] - 0s 2ms/step - loss: 0.8447 - accuracy: 0.6372 - val_loss: 0.9198 - val_accuracy: 0.6281\n",
      "Epoch 118/150\n",
      "40/40 [==============================] - 0s 2ms/step - loss: 0.8444 - accuracy: 0.6357 - val_loss: 0.9213 - val_accuracy: 0.6313\n",
      "Epoch 119/150\n",
      "40/40 [==============================] - 0s 2ms/step - loss: 0.8423 - accuracy: 0.6364 - val_loss: 0.9220 - val_accuracy: 0.6375\n",
      "Epoch 120/150\n",
      "40/40 [==============================] - 0s 2ms/step - loss: 0.8430 - accuracy: 0.6357 - val_loss: 0.9207 - val_accuracy: 0.6375\n",
      "Epoch 121/150\n",
      "40/40 [==============================] - 0s 2ms/step - loss: 0.8426 - accuracy: 0.6380 - val_loss: 0.9227 - val_accuracy: 0.6344\n",
      "Epoch 122/150\n",
      "40/40 [==============================] - 0s 2ms/step - loss: 0.8415 - accuracy: 0.6357 - val_loss: 0.9209 - val_accuracy: 0.6344\n",
      "Epoch 123/150\n",
      "40/40 [==============================] - 0s 2ms/step - loss: 0.8406 - accuracy: 0.6403 - val_loss: 0.9214 - val_accuracy: 0.6313\n",
      "Epoch 124/150\n",
      "40/40 [==============================] - 0s 2ms/step - loss: 0.8408 - accuracy: 0.6419 - val_loss: 0.9205 - val_accuracy: 0.6313\n",
      "Epoch 125/150\n",
      "40/40 [==============================] - 0s 3ms/step - loss: 0.8413 - accuracy: 0.6388 - val_loss: 0.9195 - val_accuracy: 0.6281\n",
      "Epoch 126/150\n",
      "40/40 [==============================] - 0s 2ms/step - loss: 0.8396 - accuracy: 0.6380 - val_loss: 0.9214 - val_accuracy: 0.6219\n",
      "Epoch 127/150\n",
      "40/40 [==============================] - 0s 2ms/step - loss: 0.8394 - accuracy: 0.6435 - val_loss: 0.9243 - val_accuracy: 0.6281\n",
      "Epoch 128/150\n",
      "40/40 [==============================] - 0s 3ms/step - loss: 0.8373 - accuracy: 0.6403 - val_loss: 0.9199 - val_accuracy: 0.6313\n",
      "Epoch 129/150\n",
      "40/40 [==============================] - 0s 4ms/step - loss: 0.8378 - accuracy: 0.6396 - val_loss: 0.9224 - val_accuracy: 0.6313\n",
      "Epoch 130/150\n",
      "40/40 [==============================] - 0s 3ms/step - loss: 0.8372 - accuracy: 0.6458 - val_loss: 0.9223 - val_accuracy: 0.6281\n",
      "Epoch 131/150\n",
      "40/40 [==============================] - 0s 3ms/step - loss: 0.8362 - accuracy: 0.6372 - val_loss: 0.9247 - val_accuracy: 0.6375\n",
      "Epoch 132/150\n",
      "40/40 [==============================] - 0s 3ms/step - loss: 0.8362 - accuracy: 0.6396 - val_loss: 0.9211 - val_accuracy: 0.6281\n",
      "Epoch 133/150\n",
      "40/40 [==============================] - 0s 2ms/step - loss: 0.8359 - accuracy: 0.6380 - val_loss: 0.9240 - val_accuracy: 0.6281\n",
      "Epoch 134/150\n",
      "40/40 [==============================] - 0s 2ms/step - loss: 0.8344 - accuracy: 0.6388 - val_loss: 0.9252 - val_accuracy: 0.6281\n",
      "Epoch 135/150\n",
      "40/40 [==============================] - 0s 2ms/step - loss: 0.8357 - accuracy: 0.6396 - val_loss: 0.9209 - val_accuracy: 0.6281\n",
      "Epoch 136/150\n",
      "40/40 [==============================] - 0s 2ms/step - loss: 0.8344 - accuracy: 0.6427 - val_loss: 0.9231 - val_accuracy: 0.6250\n",
      "Epoch 137/150\n",
      "40/40 [==============================] - 0s 4ms/step - loss: 0.8342 - accuracy: 0.6411 - val_loss: 0.9225 - val_accuracy: 0.6281\n",
      "Epoch 138/150\n",
      "40/40 [==============================] - 0s 3ms/step - loss: 0.8333 - accuracy: 0.6396 - val_loss: 0.9226 - val_accuracy: 0.6281\n",
      "Epoch 139/150\n",
      "40/40 [==============================] - 0s 2ms/step - loss: 0.8323 - accuracy: 0.6482 - val_loss: 0.9218 - val_accuracy: 0.6219\n",
      "Epoch 140/150\n",
      "40/40 [==============================] - 0s 2ms/step - loss: 0.8320 - accuracy: 0.6396 - val_loss: 0.9252 - val_accuracy: 0.6313\n",
      "Epoch 141/150\n",
      "40/40 [==============================] - 0s 2ms/step - loss: 0.8312 - accuracy: 0.6396 - val_loss: 0.9212 - val_accuracy: 0.6250\n",
      "Epoch 142/150\n",
      "40/40 [==============================] - 0s 2ms/step - loss: 0.8309 - accuracy: 0.6419 - val_loss: 0.9239 - val_accuracy: 0.6250\n",
      "Epoch 143/150\n",
      "40/40 [==============================] - 0s 2ms/step - loss: 0.8313 - accuracy: 0.6427 - val_loss: 0.9249 - val_accuracy: 0.6281\n",
      "Epoch 144/150\n",
      "40/40 [==============================] - 0s 2ms/step - loss: 0.8315 - accuracy: 0.6325 - val_loss: 0.9252 - val_accuracy: 0.6281\n",
      "Epoch 145/150\n",
      "40/40 [==============================] - 0s 2ms/step - loss: 0.8302 - accuracy: 0.6403 - val_loss: 0.9255 - val_accuracy: 0.6219\n",
      "Epoch 146/150\n",
      "40/40 [==============================] - 0s 2ms/step - loss: 0.8295 - accuracy: 0.6427 - val_loss: 0.9225 - val_accuracy: 0.6250\n",
      "Epoch 147/150\n",
      "40/40 [==============================] - 0s 2ms/step - loss: 0.8293 - accuracy: 0.6427 - val_loss: 0.9241 - val_accuracy: 0.6219\n",
      "Epoch 148/150\n",
      "40/40 [==============================] - 0s 2ms/step - loss: 0.8292 - accuracy: 0.6419 - val_loss: 0.9266 - val_accuracy: 0.6250\n",
      "Epoch 149/150\n",
      "40/40 [==============================] - 0s 2ms/step - loss: 0.8290 - accuracy: 0.6427 - val_loss: 0.9247 - val_accuracy: 0.6250\n",
      "Epoch 150/150\n",
      "40/40 [==============================] - 0s 2ms/step - loss: 0.8280 - accuracy: 0.6357 - val_loss: 0.9255 - val_accuracy: 0.6250\n"
     ]
    }
   ],
   "source": [
    "history = ann.fit(x_train, y_train_cat,  batch_size= 32, epochs = 150 , validation_data = (x_test,y_test_cat))"
   ]
  },
  {
   "cell_type": "code",
   "execution_count": 162,
   "id": "welsh-chosen",
   "metadata": {
    "execution": {
     "iopub.execute_input": "2021-04-06T13:51:34.916214Z",
     "iopub.status.busy": "2021-04-06T13:51:34.914323Z",
     "iopub.status.idle": "2021-04-06T13:51:35.053791Z",
     "shell.execute_reply": "2021-04-06T13:51:35.053300Z"
    },
    "id": "rolled-credit",
    "outputId": "c59a9605-4a8b-4853-88cf-035bbae4810c",
    "papermill": {
     "duration": 0.462443,
     "end_time": "2021-04-06T13:51:35.053917",
     "exception": false,
     "start_time": "2021-04-06T13:51:34.591474",
     "status": "completed"
    },
    "tags": []
   },
   "outputs": [
    {
     "data": {
      "image/png": "[encoded data removed]",
      "text/plain": [
       "<Figure size 432x288 with 1 Axes>"
      ]
     },
     "metadata": {
      "needs_background": "light"
     },
     "output_type": "display_data"
    }
   ],
   "source": [
    "plt.plot(history.history['loss'], label='MAE training data')\n",
    "plt.plot(history.history['val_loss'], label='MAE validation data')\n",
    "plt.legend()\n",
    "plt.title('MAE for model')\n",
    "plt.ylabel('MAE')\n",
    "plt.xlabel('epoch')\n",
    "plt.show()"
   ]
  },
  {
   "cell_type": "markdown",
   "id": "61551e8f",
   "metadata": {},
   "source": [
    "There is a gap between training data and validation data we can say that it is minimal overfitting. It can cause some genrazilation error"
   ]
  },
  {
   "cell_type": "code",
   "execution_count": 163,
   "id": "miniature-correspondence",
   "metadata": {
    "execution": {
     "iopub.execute_input": "2021-04-06T13:51:35.696855Z",
     "iopub.status.busy": "2021-04-06T13:51:35.685305Z",
     "iopub.status.idle": "2021-04-06T13:51:35.849818Z",
     "shell.execute_reply": "2021-04-06T13:51:35.849200Z"
    },
    "id": "differential-examination",
    "outputId": "39a1345e-9c21-487f-a5f8-741e256076bd",
    "papermill": {
     "duration": 0.490905,
     "end_time": "2021-04-06T13:51:35.849981",
     "exception": false,
     "start_time": "2021-04-06T13:51:35.359076",
     "status": "completed"
    },
    "tags": []
   },
   "outputs": [
    {
     "data": {
      "image/png": "[encoded data removed]",
      "text/plain": [
       "<Figure size 432x288 with 1 Axes>"
      ]
     },
     "metadata": {
      "needs_background": "light"
     },
     "output_type": "display_data"
    }
   ],
   "source": [
    "plt.plot(history.history['accuracy'], label='Accuracy training data')\n",
    "plt.plot(history.history['val_accuracy'], label='Accuracy validation data')\n",
    "plt.legend()\n",
    "plt.title('Model accuracy')\n",
    "plt.ylabel('Accuracy')\n",
    "plt.xlabel('epoch')\n",
    "plt.show()"
   ]
  },
  {
   "cell_type": "markdown",
   "id": "476b9606",
   "metadata": {},
   "source": [
    "The model acccuracy model looks bit underfiting because the accuracy of the training data is high than the validation data "
   ]
  }
 ],
 "metadata": {
  "kernelspec": {
   "display_name": "Python 3",
   "language": "python",
   "name": "python3"
  },
  "language_info": {
   "codemirror_mode": {
    "name": "ipython",
    "version": 3
   },
   "file_extension": ".py",
   "mimetype": "text/x-python",
   "name": "python",
   "nbconvert_exporter": "python",
   "pygments_lexer": "ipython3",
   "version": "3.8.8"
  },
  "papermill": {
   "default_parameters": {},
   "duration": 69.829458,
   "end_time": "2021-04-06T13:51:37.262699",
   "environment_variables": {},
   "exception": null,
   "input_path": "__notebook__.ipynb",
   "output_path": "__notebook__.ipynb",
   "parameters": {},
   "start_time": "2021-04-06T13:50:27.433241",
   "version": "2.3.2"
  }
 },
 "nbformat": 4,
 "nbformat_minor": 5
}
